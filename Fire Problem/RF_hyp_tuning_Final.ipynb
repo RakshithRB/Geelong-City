{
  "nbformat": 4,
  "nbformat_minor": 0,
  "metadata": {
    "accelerator": "GPU",
    "colab": {
      "name": "RF_hyp_tuning_v4.ipynb",
      "provenance": [],
      "collapsed_sections": [],
      "machine_shape": "hm"
    },
    "kernelspec": {
      "display_name": "Python 3",
      "language": "python",
      "name": "python3"
    },
    "language_info": {
      "codemirror_mode": {
        "name": "ipython",
        "version": 3
      },
      "file_extension": ".py",
      "mimetype": "text/x-python",
      "name": "python",
      "nbconvert_exporter": "python",
      "pygments_lexer": "ipython3",
      "version": "3.7.4"
    }
  },
  "cells": [
    {
      "cell_type": "code",
      "metadata": {
        "colab": {
          "base_uri": "https://localhost:8080/"
        },
        "id": "nMOxNZ8GigvM",
        "outputId": "ac5508d4-a4fe-423f-94d7-14b88d335419"
      },
      "source": [
        "#Mounting google drive\n",
        "from google.colab import drive\n",
        "drive.mount('/content/gdrive')"
      ],
      "execution_count": 2,
      "outputs": [
        {
          "output_type": "stream",
          "name": "stdout",
          "text": [
            "Mounted at /content/gdrive\n"
          ]
        }
      ]
    },
    {
      "cell_type": "code",
      "metadata": {
        "colab": {
          "base_uri": "https://localhost:8080/"
        },
        "id": "ZwDJIiKHhktk",
        "outputId": "26a59cf7-a2f1-416a-aba0-1ebe52e00295"
      },
      "source": [
        "import pandas as pd\n",
        "import numpy as np\n",
        "\n",
        "# Importing Merged data\n",
        "import_path = r\"/content/gdrive/MyDrive/\"\n",
        "# export_path = r\"C:\\Users\\admin\\Desktop\\Masters AI\\Project A\\Week 3\"\n",
        "# plots_path = r'C:\\Users\\admin\\Desktop\\Masters AI\\Project A\\Week 3\\plots'\n",
        "\n",
        "\n",
        "file, date_fields = 'weather_fire.csv', ['date','acq_date']\n",
        "vars()[file[0:-4]] = pd.read_csv('/'.join([import_path,file[:]]),parse_dates=date_fields)\n",
        "print(file,' = ',vars()[file[0:-4]].shape)"
      ],
      "execution_count": 3,
      "outputs": [
        {
          "output_type": "stream",
          "name": "stdout",
          "text": [
            "weather_fire.csv  =  (2054739, 31)\n"
          ]
        }
      ]
    },
    {
      "cell_type": "code",
      "metadata": {
        "id": "mFyCsSyYhktn"
      },
      "source": [
        "drop_features3 = ['date','acq_date','suburb','region','state','frp_min','frp_sum','frp_median','frp_mean','location','frp_max']"
      ],
      "execution_count": 4,
      "outputs": []
    },
    {
      "cell_type": "code",
      "metadata": {
        "colab": {
          "base_uri": "https://localhost:8080/"
        },
        "id": "YyeTwqTghkto",
        "outputId": "38f32ca2-6f2d-4874-c577-bcd9f02342eb"
      },
      "source": [
        "weather_fire['location']"
      ],
      "execution_count": 5,
      "outputs": [
        {
          "output_type": "execute_result",
          "data": {
            "text/plain": [
              "0          Albany\n",
              "1          Albany\n",
              "2          Albany\n",
              "3          Albany\n",
              "4          Albany\n",
              "            ...  \n",
              "2054734     Young\n",
              "2054735     Young\n",
              "2054736     Young\n",
              "2054737     Young\n",
              "2054738     Young\n",
              "Name: location, Length: 2054739, dtype: object"
            ]
          },
          "metadata": {},
          "execution_count": 5
        }
      ]
    },
    {
      "cell_type": "code",
      "metadata": {
        "colab": {
          "base_uri": "https://localhost:8080/",
          "height": 419
        },
        "id": "NSgoRaCchkto",
        "outputId": "2f2e61b2-8756-4339-e139-fa19a297cdfb"
      },
      "source": [
        "wf1b = weather_fire.copy()\n",
        "\n",
        "wf1b['cat'] = 0\n",
        "\n",
        "# # BINARY - frp_MAX \n",
        "wf1b['cat'] = np.where(wf1b['frp_max'] < 12, 0, wf1b['cat'])\n",
        "wf1b['cat'] = np.where(wf1b['frp_max'] >= 12, 1, wf1b['cat'])\n",
        "\n",
        "# print(wf1b.cat.value_counts(),'\\n')\n",
        "\n",
        "wf1b_ed = wf1b.drop(drop_features3, axis = 1) \n",
        "# We filter for Albany\n",
        "# wf1_alb=wf1b_ed[wf1b_ed.location == 'Albany']\n",
        "wf1_alb=wf1b_ed\n",
        "# -----------------------------------------------------------------\n",
        "# # Victoria only data\n",
        "# wf1b_ed_vic = wf1b_ed[wf1b_ed.state_Victoria == 1]\n",
        "# wf1b_ed_vic = wf1b_ed_vic.drop(states ,axis=1).reset_index(drop=True)\n",
        "# -----------------------------------------------------------------\n",
        "\n",
        "# DROP STATES\n",
        "# wf1b_ed = wf1b_ed.drop(states ,axis=1).reset_index(drop=True)\n",
        "\n",
        "pd.set_option('display.max_columns', 34)\n",
        "wf1_alb"
      ],
      "execution_count": 6,
      "outputs": [
        {
          "output_type": "execute_result",
          "data": {
            "text/html": [
              "<div>\n",
              "<style scoped>\n",
              "    .dataframe tbody tr th:only-of-type {\n",
              "        vertical-align: middle;\n",
              "    }\n",
              "\n",
              "    .dataframe tbody tr th {\n",
              "        vertical-align: top;\n",
              "    }\n",
              "\n",
              "    .dataframe thead th {\n",
              "        text-align: right;\n",
              "    }\n",
              "</style>\n",
              "<table border=\"1\" class=\"dataframe\">\n",
              "  <thead>\n",
              "    <tr style=\"text-align: right;\">\n",
              "      <th></th>\n",
              "      <th>maxC</th>\n",
              "      <th>minC</th>\n",
              "      <th>Snow_cm</th>\n",
              "      <th>sunHour</th>\n",
              "      <th>uv</th>\n",
              "      <th>DewPointC</th>\n",
              "      <th>FeelsLikeC</th>\n",
              "      <th>HeatIndexC</th>\n",
              "      <th>WindChillC</th>\n",
              "      <th>WindGustKmph</th>\n",
              "      <th>cloudcover</th>\n",
              "      <th>humidity</th>\n",
              "      <th>precipMM</th>\n",
              "      <th>pressure</th>\n",
              "      <th>tempC</th>\n",
              "      <th>visibility</th>\n",
              "      <th>windAZI</th>\n",
              "      <th>windKmph</th>\n",
              "      <th>lat_suburb</th>\n",
              "      <th>long_suburb</th>\n",
              "      <th>cat</th>\n",
              "    </tr>\n",
              "  </thead>\n",
              "  <tbody>\n",
              "    <tr>\n",
              "      <th>0</th>\n",
              "      <td>15</td>\n",
              "      <td>7</td>\n",
              "      <td>0.0</td>\n",
              "      <td>8.7</td>\n",
              "      <td>4</td>\n",
              "      <td>5</td>\n",
              "      <td>10</td>\n",
              "      <td>11</td>\n",
              "      <td>10</td>\n",
              "      <td>15</td>\n",
              "      <td>8</td>\n",
              "      <td>68</td>\n",
              "      <td>0.0</td>\n",
              "      <td>1023</td>\n",
              "      <td>15</td>\n",
              "      <td>10</td>\n",
              "      <td>183</td>\n",
              "      <td>9</td>\n",
              "      <td>-35.0031</td>\n",
              "      <td>117.86595</td>\n",
              "      <td>0</td>\n",
              "    </tr>\n",
              "    <tr>\n",
              "      <th>1</th>\n",
              "      <td>17</td>\n",
              "      <td>10</td>\n",
              "      <td>0.0</td>\n",
              "      <td>7.2</td>\n",
              "      <td>3</td>\n",
              "      <td>9</td>\n",
              "      <td>12</td>\n",
              "      <td>13</td>\n",
              "      <td>12</td>\n",
              "      <td>21</td>\n",
              "      <td>56</td>\n",
              "      <td>77</td>\n",
              "      <td>0.2</td>\n",
              "      <td>1017</td>\n",
              "      <td>17</td>\n",
              "      <td>10</td>\n",
              "      <td>177</td>\n",
              "      <td>13</td>\n",
              "      <td>-35.0031</td>\n",
              "      <td>117.86595</td>\n",
              "      <td>0</td>\n",
              "    </tr>\n",
              "    <tr>\n",
              "      <th>2</th>\n",
              "      <td>15</td>\n",
              "      <td>10</td>\n",
              "      <td>0.0</td>\n",
              "      <td>8.7</td>\n",
              "      <td>4</td>\n",
              "      <td>8</td>\n",
              "      <td>11</td>\n",
              "      <td>12</td>\n",
              "      <td>11</td>\n",
              "      <td>20</td>\n",
              "      <td>33</td>\n",
              "      <td>74</td>\n",
              "      <td>0.1</td>\n",
              "      <td>1023</td>\n",
              "      <td>15</td>\n",
              "      <td>10</td>\n",
              "      <td>180</td>\n",
              "      <td>13</td>\n",
              "      <td>-35.0031</td>\n",
              "      <td>117.86595</td>\n",
              "      <td>0</td>\n",
              "    </tr>\n",
              "    <tr>\n",
              "      <th>3</th>\n",
              "      <td>16</td>\n",
              "      <td>9</td>\n",
              "      <td>0.0</td>\n",
              "      <td>8.7</td>\n",
              "      <td>4</td>\n",
              "      <td>9</td>\n",
              "      <td>12</td>\n",
              "      <td>13</td>\n",
              "      <td>12</td>\n",
              "      <td>21</td>\n",
              "      <td>24</td>\n",
              "      <td>76</td>\n",
              "      <td>0.0</td>\n",
              "      <td>1022</td>\n",
              "      <td>16</td>\n",
              "      <td>10</td>\n",
              "      <td>82</td>\n",
              "      <td>13</td>\n",
              "      <td>-35.0031</td>\n",
              "      <td>117.86595</td>\n",
              "      <td>0</td>\n",
              "    </tr>\n",
              "    <tr>\n",
              "      <th>4</th>\n",
              "      <td>20</td>\n",
              "      <td>12</td>\n",
              "      <td>0.0</td>\n",
              "      <td>8.7</td>\n",
              "      <td>4</td>\n",
              "      <td>12</td>\n",
              "      <td>15</td>\n",
              "      <td>15</td>\n",
              "      <td>15</td>\n",
              "      <td>27</td>\n",
              "      <td>29</td>\n",
              "      <td>79</td>\n",
              "      <td>0.1</td>\n",
              "      <td>1012</td>\n",
              "      <td>20</td>\n",
              "      <td>10</td>\n",
              "      <td>37</td>\n",
              "      <td>17</td>\n",
              "      <td>-35.0031</td>\n",
              "      <td>117.86595</td>\n",
              "      <td>0</td>\n",
              "    </tr>\n",
              "    <tr>\n",
              "      <th>...</th>\n",
              "      <td>...</td>\n",
              "      <td>...</td>\n",
              "      <td>...</td>\n",
              "      <td>...</td>\n",
              "      <td>...</td>\n",
              "      <td>...</td>\n",
              "      <td>...</td>\n",
              "      <td>...</td>\n",
              "      <td>...</td>\n",
              "      <td>...</td>\n",
              "      <td>...</td>\n",
              "      <td>...</td>\n",
              "      <td>...</td>\n",
              "      <td>...</td>\n",
              "      <td>...</td>\n",
              "      <td>...</td>\n",
              "      <td>...</td>\n",
              "      <td>...</td>\n",
              "      <td>...</td>\n",
              "      <td>...</td>\n",
              "      <td>...</td>\n",
              "    </tr>\n",
              "    <tr>\n",
              "      <th>2054734</th>\n",
              "      <td>28</td>\n",
              "      <td>15</td>\n",
              "      <td>0.0</td>\n",
              "      <td>14.5</td>\n",
              "      <td>6</td>\n",
              "      <td>14</td>\n",
              "      <td>23</td>\n",
              "      <td>23</td>\n",
              "      <td>22</td>\n",
              "      <td>11</td>\n",
              "      <td>6</td>\n",
              "      <td>64</td>\n",
              "      <td>0.0</td>\n",
              "      <td>1012</td>\n",
              "      <td>28</td>\n",
              "      <td>10</td>\n",
              "      <td>189</td>\n",
              "      <td>7</td>\n",
              "      <td>-34.3135</td>\n",
              "      <td>148.30107</td>\n",
              "      <td>0</td>\n",
              "    </tr>\n",
              "    <tr>\n",
              "      <th>2054735</th>\n",
              "      <td>29</td>\n",
              "      <td>15</td>\n",
              "      <td>0.0</td>\n",
              "      <td>14.5</td>\n",
              "      <td>7</td>\n",
              "      <td>15</td>\n",
              "      <td>24</td>\n",
              "      <td>24</td>\n",
              "      <td>23</td>\n",
              "      <td>9</td>\n",
              "      <td>4</td>\n",
              "      <td>66</td>\n",
              "      <td>0.0</td>\n",
              "      <td>1014</td>\n",
              "      <td>29</td>\n",
              "      <td>10</td>\n",
              "      <td>166</td>\n",
              "      <td>6</td>\n",
              "      <td>-34.3135</td>\n",
              "      <td>148.30107</td>\n",
              "      <td>0</td>\n",
              "    </tr>\n",
              "    <tr>\n",
              "      <th>2054736</th>\n",
              "      <td>28</td>\n",
              "      <td>20</td>\n",
              "      <td>0.0</td>\n",
              "      <td>13.4</td>\n",
              "      <td>7</td>\n",
              "      <td>16</td>\n",
              "      <td>25</td>\n",
              "      <td>25</td>\n",
              "      <td>24</td>\n",
              "      <td>11</td>\n",
              "      <td>25</td>\n",
              "      <td>61</td>\n",
              "      <td>0.8</td>\n",
              "      <td>1008</td>\n",
              "      <td>28</td>\n",
              "      <td>10</td>\n",
              "      <td>192</td>\n",
              "      <td>6</td>\n",
              "      <td>-34.3135</td>\n",
              "      <td>148.30107</td>\n",
              "      <td>0</td>\n",
              "    </tr>\n",
              "    <tr>\n",
              "      <th>2054737</th>\n",
              "      <td>25</td>\n",
              "      <td>20</td>\n",
              "      <td>0.0</td>\n",
              "      <td>10.2</td>\n",
              "      <td>5</td>\n",
              "      <td>15</td>\n",
              "      <td>23</td>\n",
              "      <td>23</td>\n",
              "      <td>22</td>\n",
              "      <td>19</td>\n",
              "      <td>61</td>\n",
              "      <td>69</td>\n",
              "      <td>8.4</td>\n",
              "      <td>1004</td>\n",
              "      <td>25</td>\n",
              "      <td>9</td>\n",
              "      <td>169</td>\n",
              "      <td>12</td>\n",
              "      <td>-34.3135</td>\n",
              "      <td>148.30107</td>\n",
              "      <td>0</td>\n",
              "    </tr>\n",
              "    <tr>\n",
              "      <th>2054738</th>\n",
              "      <td>24</td>\n",
              "      <td>13</td>\n",
              "      <td>0.0</td>\n",
              "      <td>14.5</td>\n",
              "      <td>6</td>\n",
              "      <td>10</td>\n",
              "      <td>19</td>\n",
              "      <td>20</td>\n",
              "      <td>19</td>\n",
              "      <td>15</td>\n",
              "      <td>5</td>\n",
              "      <td>62</td>\n",
              "      <td>0.0</td>\n",
              "      <td>1013</td>\n",
              "      <td>24</td>\n",
              "      <td>10</td>\n",
              "      <td>77</td>\n",
              "      <td>9</td>\n",
              "      <td>-34.3135</td>\n",
              "      <td>148.30107</td>\n",
              "      <td>0</td>\n",
              "    </tr>\n",
              "  </tbody>\n",
              "</table>\n",
              "<p>2054739 rows × 21 columns</p>\n",
              "</div>"
            ],
            "text/plain": [
              "         maxC  minC  Snow_cm  sunHour  uv  DewPointC  FeelsLikeC  HeatIndexC  \\\n",
              "0          15     7      0.0      8.7   4          5          10          11   \n",
              "1          17    10      0.0      7.2   3          9          12          13   \n",
              "2          15    10      0.0      8.7   4          8          11          12   \n",
              "3          16     9      0.0      8.7   4          9          12          13   \n",
              "4          20    12      0.0      8.7   4         12          15          15   \n",
              "...       ...   ...      ...      ...  ..        ...         ...         ...   \n",
              "2054734    28    15      0.0     14.5   6         14          23          23   \n",
              "2054735    29    15      0.0     14.5   7         15          24          24   \n",
              "2054736    28    20      0.0     13.4   7         16          25          25   \n",
              "2054737    25    20      0.0     10.2   5         15          23          23   \n",
              "2054738    24    13      0.0     14.5   6         10          19          20   \n",
              "\n",
              "         WindChillC  WindGustKmph  cloudcover  humidity  precipMM  pressure  \\\n",
              "0                10            15           8        68       0.0      1023   \n",
              "1                12            21          56        77       0.2      1017   \n",
              "2                11            20          33        74       0.1      1023   \n",
              "3                12            21          24        76       0.0      1022   \n",
              "4                15            27          29        79       0.1      1012   \n",
              "...             ...           ...         ...       ...       ...       ...   \n",
              "2054734          22            11           6        64       0.0      1012   \n",
              "2054735          23             9           4        66       0.0      1014   \n",
              "2054736          24            11          25        61       0.8      1008   \n",
              "2054737          22            19          61        69       8.4      1004   \n",
              "2054738          19            15           5        62       0.0      1013   \n",
              "\n",
              "         tempC  visibility  windAZI  windKmph  lat_suburb  long_suburb  cat  \n",
              "0           15          10      183         9    -35.0031    117.86595    0  \n",
              "1           17          10      177        13    -35.0031    117.86595    0  \n",
              "2           15          10      180        13    -35.0031    117.86595    0  \n",
              "3           16          10       82        13    -35.0031    117.86595    0  \n",
              "4           20          10       37        17    -35.0031    117.86595    0  \n",
              "...        ...         ...      ...       ...         ...          ...  ...  \n",
              "2054734     28          10      189         7    -34.3135    148.30107    0  \n",
              "2054735     29          10      166         6    -34.3135    148.30107    0  \n",
              "2054736     28          10      192         6    -34.3135    148.30107    0  \n",
              "2054737     25           9      169        12    -34.3135    148.30107    0  \n",
              "2054738     24          10       77         9    -34.3135    148.30107    0  \n",
              "\n",
              "[2054739 rows x 21 columns]"
            ]
          },
          "metadata": {},
          "execution_count": 6
        }
      ]
    },
    {
      "cell_type": "code",
      "metadata": {
        "id": "ESqN2wI5hktp"
      },
      "source": [
        "def series_to_supervised(data,n_in=1,n_out=1,dropnan = True):\n",
        "    n_vars = 1 if type(data) is list else data.shape[1]\n",
        "    df = DataFrame(data)\n",
        "    cols = list()\n",
        "    for i in range(n_in, 0, -1):\n",
        "        cols.append(df.shift(i))\n",
        "    for i in range(0, n_out):\n",
        "        cols.append(df.shift(-i))\n",
        "    agg = concat(cols, axis=1)\n",
        "    if dropnan:\n",
        "        agg.dropna(inplace=True)\n",
        "    return agg.values"
      ],
      "execution_count": 7,
      "outputs": []
    },
    {
      "cell_type": "code",
      "metadata": {
        "id": "I9U2TZM6hktp"
      },
      "source": [
        "from sklearn.model_selection import train_test_split\n",
        "# def walk_forward_validation(data, n_test):\n",
        "#     predictions = list()\n",
        "#     train, test = train_test_split(data, n_test)\n",
        "#     history = [x for x in train]\n",
        "#     for i in range(len(test)):\n",
        "#         testX, testy = test[i, :-1], test[i, -1]\n",
        "#         yhat = xgboost_forecast(history, testX)\n",
        "#         predictions.append(yhat)\n",
        "#         history.append(test[i])\n",
        "#         print('>expected=%.1f, predicted=%.1f' % (testy, yhat))\n",
        "#     error = mean_absolute_error(test[:, -1], predictions)\n",
        "#     return error, test[:, 1], predictions\n",
        "    "
      ],
      "execution_count": 8,
      "outputs": []
    },
    {
      "cell_type": "code",
      "metadata": {
        "id": "purhtSn-hktp"
      },
      "source": [
        "from numpy import asarray\n",
        "from pandas import read_csv\n",
        "from pandas import DataFrame\n",
        "from pandas import concat\n",
        "from sklearn.metrics import mean_absolute_error\n",
        "from xgboost import XGBClassifier\n",
        "from matplotlib import pyplot"
      ],
      "execution_count": 9,
      "outputs": []
    },
    {
      "cell_type": "code",
      "metadata": {
        "id": "pNH_-MhGhktp"
      },
      "source": [
        "# def xgboost_pred(train,testX):\n",
        "#     train = asarray(train)\n",
        "#     trainX, trainy = train[:, :-1], train[:, -1]\n",
        "#     model = xgb.XGBRegressor(objective='reg:squarederror', n_estimators=1000)\n",
        "#     model.fit(trainX, trainy)\n",
        "#     yhat = model.predict([testX])\n",
        "#     return yhat[0]"
      ],
      "execution_count": 10,
      "outputs": []
    },
    {
      "cell_type": "code",
      "metadata": {
        "id": "WsIPyhajhktq"
      },
      "source": [
        "# X = wf1_alb.iloc[:,:-1]\n",
        "# y = wf1_alb.iloc[:,-1]"
      ],
      "execution_count": 11,
      "outputs": []
    },
    {
      "cell_type": "code",
      "metadata": {
        "id": "L-dLqF3Chktq"
      },
      "source": [
        "dataset = wf1_alb\n",
        "dataset = series_to_supervised(dataset)"
      ],
      "execution_count": 12,
      "outputs": []
    },
    {
      "cell_type": "code",
      "metadata": {
        "colab": {
          "base_uri": "https://localhost:8080/"
        },
        "id": "Y5rUXiXmhktq",
        "outputId": "ec2b4a0d-b7f0-4a8b-e67b-73de188fd1a9"
      },
      "source": [
        "dataset"
      ],
      "execution_count": 13,
      "outputs": [
        {
          "output_type": "execute_result",
          "data": {
            "text/plain": [
              "array([[ 15.     ,   7.     ,   0.     , ..., -35.0031 , 117.86595,\n",
              "          0.     ],\n",
              "       [ 17.     ,  10.     ,   0.     , ..., -35.0031 , 117.86595,\n",
              "          0.     ],\n",
              "       [ 15.     ,  10.     ,   0.     , ..., -35.0031 , 117.86595,\n",
              "          0.     ],\n",
              "       ...,\n",
              "       [ 29.     ,  15.     ,   0.     , ..., -34.3135 , 148.30107,\n",
              "          0.     ],\n",
              "       [ 28.     ,  20.     ,   0.     , ..., -34.3135 , 148.30107,\n",
              "          0.     ],\n",
              "       [ 25.     ,  20.     ,   0.     , ..., -34.3135 , 148.30107,\n",
              "          0.     ]])"
            ]
          },
          "metadata": {},
          "execution_count": 13
        }
      ]
    },
    {
      "cell_type": "code",
      "metadata": {
        "colab": {
          "base_uri": "https://localhost:8080/",
          "height": 419
        },
        "id": "pIqsUY78hktq",
        "outputId": "1f7d2f1b-d103-4a8f-b988-a3056c82b419"
      },
      "source": [
        "import pandas as pd\n",
        "data = pd.DataFrame(dataset)\n",
        "data"
      ],
      "execution_count": 14,
      "outputs": [
        {
          "output_type": "execute_result",
          "data": {
            "text/html": [
              "<div>\n",
              "<style scoped>\n",
              "    .dataframe tbody tr th:only-of-type {\n",
              "        vertical-align: middle;\n",
              "    }\n",
              "\n",
              "    .dataframe tbody tr th {\n",
              "        vertical-align: top;\n",
              "    }\n",
              "\n",
              "    .dataframe thead th {\n",
              "        text-align: right;\n",
              "    }\n",
              "</style>\n",
              "<table border=\"1\" class=\"dataframe\">\n",
              "  <thead>\n",
              "    <tr style=\"text-align: right;\">\n",
              "      <th></th>\n",
              "      <th>0</th>\n",
              "      <th>1</th>\n",
              "      <th>2</th>\n",
              "      <th>3</th>\n",
              "      <th>4</th>\n",
              "      <th>5</th>\n",
              "      <th>6</th>\n",
              "      <th>7</th>\n",
              "      <th>8</th>\n",
              "      <th>9</th>\n",
              "      <th>10</th>\n",
              "      <th>11</th>\n",
              "      <th>12</th>\n",
              "      <th>13</th>\n",
              "      <th>14</th>\n",
              "      <th>15</th>\n",
              "      <th>16</th>\n",
              "      <th>...</th>\n",
              "      <th>25</th>\n",
              "      <th>26</th>\n",
              "      <th>27</th>\n",
              "      <th>28</th>\n",
              "      <th>29</th>\n",
              "      <th>30</th>\n",
              "      <th>31</th>\n",
              "      <th>32</th>\n",
              "      <th>33</th>\n",
              "      <th>34</th>\n",
              "      <th>35</th>\n",
              "      <th>36</th>\n",
              "      <th>37</th>\n",
              "      <th>38</th>\n",
              "      <th>39</th>\n",
              "      <th>40</th>\n",
              "      <th>41</th>\n",
              "    </tr>\n",
              "  </thead>\n",
              "  <tbody>\n",
              "    <tr>\n",
              "      <th>0</th>\n",
              "      <td>15.0</td>\n",
              "      <td>7.0</td>\n",
              "      <td>0.0</td>\n",
              "      <td>8.7</td>\n",
              "      <td>4.0</td>\n",
              "      <td>5.0</td>\n",
              "      <td>10.0</td>\n",
              "      <td>11.0</td>\n",
              "      <td>10.0</td>\n",
              "      <td>15.0</td>\n",
              "      <td>8.0</td>\n",
              "      <td>68.0</td>\n",
              "      <td>0.0</td>\n",
              "      <td>1023.0</td>\n",
              "      <td>15.0</td>\n",
              "      <td>10.0</td>\n",
              "      <td>183.0</td>\n",
              "      <td>...</td>\n",
              "      <td>3.0</td>\n",
              "      <td>9.0</td>\n",
              "      <td>12.0</td>\n",
              "      <td>13.0</td>\n",
              "      <td>12.0</td>\n",
              "      <td>21.0</td>\n",
              "      <td>56.0</td>\n",
              "      <td>77.0</td>\n",
              "      <td>0.2</td>\n",
              "      <td>1017.0</td>\n",
              "      <td>17.0</td>\n",
              "      <td>10.0</td>\n",
              "      <td>177.0</td>\n",
              "      <td>13.0</td>\n",
              "      <td>-35.0031</td>\n",
              "      <td>117.86595</td>\n",
              "      <td>0.0</td>\n",
              "    </tr>\n",
              "    <tr>\n",
              "      <th>1</th>\n",
              "      <td>17.0</td>\n",
              "      <td>10.0</td>\n",
              "      <td>0.0</td>\n",
              "      <td>7.2</td>\n",
              "      <td>3.0</td>\n",
              "      <td>9.0</td>\n",
              "      <td>12.0</td>\n",
              "      <td>13.0</td>\n",
              "      <td>12.0</td>\n",
              "      <td>21.0</td>\n",
              "      <td>56.0</td>\n",
              "      <td>77.0</td>\n",
              "      <td>0.2</td>\n",
              "      <td>1017.0</td>\n",
              "      <td>17.0</td>\n",
              "      <td>10.0</td>\n",
              "      <td>177.0</td>\n",
              "      <td>...</td>\n",
              "      <td>4.0</td>\n",
              "      <td>8.0</td>\n",
              "      <td>11.0</td>\n",
              "      <td>12.0</td>\n",
              "      <td>11.0</td>\n",
              "      <td>20.0</td>\n",
              "      <td>33.0</td>\n",
              "      <td>74.0</td>\n",
              "      <td>0.1</td>\n",
              "      <td>1023.0</td>\n",
              "      <td>15.0</td>\n",
              "      <td>10.0</td>\n",
              "      <td>180.0</td>\n",
              "      <td>13.0</td>\n",
              "      <td>-35.0031</td>\n",
              "      <td>117.86595</td>\n",
              "      <td>0.0</td>\n",
              "    </tr>\n",
              "    <tr>\n",
              "      <th>2</th>\n",
              "      <td>15.0</td>\n",
              "      <td>10.0</td>\n",
              "      <td>0.0</td>\n",
              "      <td>8.7</td>\n",
              "      <td>4.0</td>\n",
              "      <td>8.0</td>\n",
              "      <td>11.0</td>\n",
              "      <td>12.0</td>\n",
              "      <td>11.0</td>\n",
              "      <td>20.0</td>\n",
              "      <td>33.0</td>\n",
              "      <td>74.0</td>\n",
              "      <td>0.1</td>\n",
              "      <td>1023.0</td>\n",
              "      <td>15.0</td>\n",
              "      <td>10.0</td>\n",
              "      <td>180.0</td>\n",
              "      <td>...</td>\n",
              "      <td>4.0</td>\n",
              "      <td>9.0</td>\n",
              "      <td>12.0</td>\n",
              "      <td>13.0</td>\n",
              "      <td>12.0</td>\n",
              "      <td>21.0</td>\n",
              "      <td>24.0</td>\n",
              "      <td>76.0</td>\n",
              "      <td>0.0</td>\n",
              "      <td>1022.0</td>\n",
              "      <td>16.0</td>\n",
              "      <td>10.0</td>\n",
              "      <td>82.0</td>\n",
              "      <td>13.0</td>\n",
              "      <td>-35.0031</td>\n",
              "      <td>117.86595</td>\n",
              "      <td>0.0</td>\n",
              "    </tr>\n",
              "    <tr>\n",
              "      <th>3</th>\n",
              "      <td>16.0</td>\n",
              "      <td>9.0</td>\n",
              "      <td>0.0</td>\n",
              "      <td>8.7</td>\n",
              "      <td>4.0</td>\n",
              "      <td>9.0</td>\n",
              "      <td>12.0</td>\n",
              "      <td>13.0</td>\n",
              "      <td>12.0</td>\n",
              "      <td>21.0</td>\n",
              "      <td>24.0</td>\n",
              "      <td>76.0</td>\n",
              "      <td>0.0</td>\n",
              "      <td>1022.0</td>\n",
              "      <td>16.0</td>\n",
              "      <td>10.0</td>\n",
              "      <td>82.0</td>\n",
              "      <td>...</td>\n",
              "      <td>4.0</td>\n",
              "      <td>12.0</td>\n",
              "      <td>15.0</td>\n",
              "      <td>15.0</td>\n",
              "      <td>15.0</td>\n",
              "      <td>27.0</td>\n",
              "      <td>29.0</td>\n",
              "      <td>79.0</td>\n",
              "      <td>0.1</td>\n",
              "      <td>1012.0</td>\n",
              "      <td>20.0</td>\n",
              "      <td>10.0</td>\n",
              "      <td>37.0</td>\n",
              "      <td>17.0</td>\n",
              "      <td>-35.0031</td>\n",
              "      <td>117.86595</td>\n",
              "      <td>0.0</td>\n",
              "    </tr>\n",
              "    <tr>\n",
              "      <th>4</th>\n",
              "      <td>20.0</td>\n",
              "      <td>12.0</td>\n",
              "      <td>0.0</td>\n",
              "      <td>8.7</td>\n",
              "      <td>4.0</td>\n",
              "      <td>12.0</td>\n",
              "      <td>15.0</td>\n",
              "      <td>15.0</td>\n",
              "      <td>15.0</td>\n",
              "      <td>27.0</td>\n",
              "      <td>29.0</td>\n",
              "      <td>79.0</td>\n",
              "      <td>0.1</td>\n",
              "      <td>1012.0</td>\n",
              "      <td>20.0</td>\n",
              "      <td>10.0</td>\n",
              "      <td>37.0</td>\n",
              "      <td>...</td>\n",
              "      <td>4.0</td>\n",
              "      <td>13.0</td>\n",
              "      <td>15.0</td>\n",
              "      <td>16.0</td>\n",
              "      <td>15.0</td>\n",
              "      <td>42.0</td>\n",
              "      <td>38.0</td>\n",
              "      <td>85.0</td>\n",
              "      <td>1.7</td>\n",
              "      <td>1002.0</td>\n",
              "      <td>20.0</td>\n",
              "      <td>10.0</td>\n",
              "      <td>326.0</td>\n",
              "      <td>26.0</td>\n",
              "      <td>-35.0031</td>\n",
              "      <td>117.86595</td>\n",
              "      <td>0.0</td>\n",
              "    </tr>\n",
              "    <tr>\n",
              "      <th>...</th>\n",
              "      <td>...</td>\n",
              "      <td>...</td>\n",
              "      <td>...</td>\n",
              "      <td>...</td>\n",
              "      <td>...</td>\n",
              "      <td>...</td>\n",
              "      <td>...</td>\n",
              "      <td>...</td>\n",
              "      <td>...</td>\n",
              "      <td>...</td>\n",
              "      <td>...</td>\n",
              "      <td>...</td>\n",
              "      <td>...</td>\n",
              "      <td>...</td>\n",
              "      <td>...</td>\n",
              "      <td>...</td>\n",
              "      <td>...</td>\n",
              "      <td>...</td>\n",
              "      <td>...</td>\n",
              "      <td>...</td>\n",
              "      <td>...</td>\n",
              "      <td>...</td>\n",
              "      <td>...</td>\n",
              "      <td>...</td>\n",
              "      <td>...</td>\n",
              "      <td>...</td>\n",
              "      <td>...</td>\n",
              "      <td>...</td>\n",
              "      <td>...</td>\n",
              "      <td>...</td>\n",
              "      <td>...</td>\n",
              "      <td>...</td>\n",
              "      <td>...</td>\n",
              "      <td>...</td>\n",
              "      <td>...</td>\n",
              "    </tr>\n",
              "    <tr>\n",
              "      <th>2054733</th>\n",
              "      <td>25.0</td>\n",
              "      <td>12.0</td>\n",
              "      <td>0.0</td>\n",
              "      <td>14.1</td>\n",
              "      <td>5.0</td>\n",
              "      <td>13.0</td>\n",
              "      <td>19.0</td>\n",
              "      <td>20.0</td>\n",
              "      <td>19.0</td>\n",
              "      <td>9.0</td>\n",
              "      <td>11.0</td>\n",
              "      <td>72.0</td>\n",
              "      <td>0.0</td>\n",
              "      <td>1012.0</td>\n",
              "      <td>25.0</td>\n",
              "      <td>9.0</td>\n",
              "      <td>180.0</td>\n",
              "      <td>...</td>\n",
              "      <td>6.0</td>\n",
              "      <td>14.0</td>\n",
              "      <td>23.0</td>\n",
              "      <td>23.0</td>\n",
              "      <td>22.0</td>\n",
              "      <td>11.0</td>\n",
              "      <td>6.0</td>\n",
              "      <td>64.0</td>\n",
              "      <td>0.0</td>\n",
              "      <td>1012.0</td>\n",
              "      <td>28.0</td>\n",
              "      <td>10.0</td>\n",
              "      <td>189.0</td>\n",
              "      <td>7.0</td>\n",
              "      <td>-34.3135</td>\n",
              "      <td>148.30107</td>\n",
              "      <td>0.0</td>\n",
              "    </tr>\n",
              "    <tr>\n",
              "      <th>2054734</th>\n",
              "      <td>28.0</td>\n",
              "      <td>15.0</td>\n",
              "      <td>0.0</td>\n",
              "      <td>14.5</td>\n",
              "      <td>6.0</td>\n",
              "      <td>14.0</td>\n",
              "      <td>23.0</td>\n",
              "      <td>23.0</td>\n",
              "      <td>22.0</td>\n",
              "      <td>11.0</td>\n",
              "      <td>6.0</td>\n",
              "      <td>64.0</td>\n",
              "      <td>0.0</td>\n",
              "      <td>1012.0</td>\n",
              "      <td>28.0</td>\n",
              "      <td>10.0</td>\n",
              "      <td>189.0</td>\n",
              "      <td>...</td>\n",
              "      <td>7.0</td>\n",
              "      <td>15.0</td>\n",
              "      <td>24.0</td>\n",
              "      <td>24.0</td>\n",
              "      <td>23.0</td>\n",
              "      <td>9.0</td>\n",
              "      <td>4.0</td>\n",
              "      <td>66.0</td>\n",
              "      <td>0.0</td>\n",
              "      <td>1014.0</td>\n",
              "      <td>29.0</td>\n",
              "      <td>10.0</td>\n",
              "      <td>166.0</td>\n",
              "      <td>6.0</td>\n",
              "      <td>-34.3135</td>\n",
              "      <td>148.30107</td>\n",
              "      <td>0.0</td>\n",
              "    </tr>\n",
              "    <tr>\n",
              "      <th>2054735</th>\n",
              "      <td>29.0</td>\n",
              "      <td>15.0</td>\n",
              "      <td>0.0</td>\n",
              "      <td>14.5</td>\n",
              "      <td>7.0</td>\n",
              "      <td>15.0</td>\n",
              "      <td>24.0</td>\n",
              "      <td>24.0</td>\n",
              "      <td>23.0</td>\n",
              "      <td>9.0</td>\n",
              "      <td>4.0</td>\n",
              "      <td>66.0</td>\n",
              "      <td>0.0</td>\n",
              "      <td>1014.0</td>\n",
              "      <td>29.0</td>\n",
              "      <td>10.0</td>\n",
              "      <td>166.0</td>\n",
              "      <td>...</td>\n",
              "      <td>7.0</td>\n",
              "      <td>16.0</td>\n",
              "      <td>25.0</td>\n",
              "      <td>25.0</td>\n",
              "      <td>24.0</td>\n",
              "      <td>11.0</td>\n",
              "      <td>25.0</td>\n",
              "      <td>61.0</td>\n",
              "      <td>0.8</td>\n",
              "      <td>1008.0</td>\n",
              "      <td>28.0</td>\n",
              "      <td>10.0</td>\n",
              "      <td>192.0</td>\n",
              "      <td>6.0</td>\n",
              "      <td>-34.3135</td>\n",
              "      <td>148.30107</td>\n",
              "      <td>0.0</td>\n",
              "    </tr>\n",
              "    <tr>\n",
              "      <th>2054736</th>\n",
              "      <td>28.0</td>\n",
              "      <td>20.0</td>\n",
              "      <td>0.0</td>\n",
              "      <td>13.4</td>\n",
              "      <td>7.0</td>\n",
              "      <td>16.0</td>\n",
              "      <td>25.0</td>\n",
              "      <td>25.0</td>\n",
              "      <td>24.0</td>\n",
              "      <td>11.0</td>\n",
              "      <td>25.0</td>\n",
              "      <td>61.0</td>\n",
              "      <td>0.8</td>\n",
              "      <td>1008.0</td>\n",
              "      <td>28.0</td>\n",
              "      <td>10.0</td>\n",
              "      <td>192.0</td>\n",
              "      <td>...</td>\n",
              "      <td>5.0</td>\n",
              "      <td>15.0</td>\n",
              "      <td>23.0</td>\n",
              "      <td>23.0</td>\n",
              "      <td>22.0</td>\n",
              "      <td>19.0</td>\n",
              "      <td>61.0</td>\n",
              "      <td>69.0</td>\n",
              "      <td>8.4</td>\n",
              "      <td>1004.0</td>\n",
              "      <td>25.0</td>\n",
              "      <td>9.0</td>\n",
              "      <td>169.0</td>\n",
              "      <td>12.0</td>\n",
              "      <td>-34.3135</td>\n",
              "      <td>148.30107</td>\n",
              "      <td>0.0</td>\n",
              "    </tr>\n",
              "    <tr>\n",
              "      <th>2054737</th>\n",
              "      <td>25.0</td>\n",
              "      <td>20.0</td>\n",
              "      <td>0.0</td>\n",
              "      <td>10.2</td>\n",
              "      <td>5.0</td>\n",
              "      <td>15.0</td>\n",
              "      <td>23.0</td>\n",
              "      <td>23.0</td>\n",
              "      <td>22.0</td>\n",
              "      <td>19.0</td>\n",
              "      <td>61.0</td>\n",
              "      <td>69.0</td>\n",
              "      <td>8.4</td>\n",
              "      <td>1004.0</td>\n",
              "      <td>25.0</td>\n",
              "      <td>9.0</td>\n",
              "      <td>169.0</td>\n",
              "      <td>...</td>\n",
              "      <td>6.0</td>\n",
              "      <td>10.0</td>\n",
              "      <td>19.0</td>\n",
              "      <td>20.0</td>\n",
              "      <td>19.0</td>\n",
              "      <td>15.0</td>\n",
              "      <td>5.0</td>\n",
              "      <td>62.0</td>\n",
              "      <td>0.0</td>\n",
              "      <td>1013.0</td>\n",
              "      <td>24.0</td>\n",
              "      <td>10.0</td>\n",
              "      <td>77.0</td>\n",
              "      <td>9.0</td>\n",
              "      <td>-34.3135</td>\n",
              "      <td>148.30107</td>\n",
              "      <td>0.0</td>\n",
              "    </tr>\n",
              "  </tbody>\n",
              "</table>\n",
              "<p>2054738 rows × 42 columns</p>\n",
              "</div>"
            ],
            "text/plain": [
              "           0     1    2     3    4     5     6     7     8     9     10    11  \\\n",
              "0        15.0   7.0  0.0   8.7  4.0   5.0  10.0  11.0  10.0  15.0   8.0  68.0   \n",
              "1        17.0  10.0  0.0   7.2  3.0   9.0  12.0  13.0  12.0  21.0  56.0  77.0   \n",
              "2        15.0  10.0  0.0   8.7  4.0   8.0  11.0  12.0  11.0  20.0  33.0  74.0   \n",
              "3        16.0   9.0  0.0   8.7  4.0   9.0  12.0  13.0  12.0  21.0  24.0  76.0   \n",
              "4        20.0  12.0  0.0   8.7  4.0  12.0  15.0  15.0  15.0  27.0  29.0  79.0   \n",
              "...       ...   ...  ...   ...  ...   ...   ...   ...   ...   ...   ...   ...   \n",
              "2054733  25.0  12.0  0.0  14.1  5.0  13.0  19.0  20.0  19.0   9.0  11.0  72.0   \n",
              "2054734  28.0  15.0  0.0  14.5  6.0  14.0  23.0  23.0  22.0  11.0   6.0  64.0   \n",
              "2054735  29.0  15.0  0.0  14.5  7.0  15.0  24.0  24.0  23.0   9.0   4.0  66.0   \n",
              "2054736  28.0  20.0  0.0  13.4  7.0  16.0  25.0  25.0  24.0  11.0  25.0  61.0   \n",
              "2054737  25.0  20.0  0.0  10.2  5.0  15.0  23.0  23.0  22.0  19.0  61.0  69.0   \n",
              "\n",
              "          12      13    14    15     16  ...   25    26    27    28    29  \\\n",
              "0        0.0  1023.0  15.0  10.0  183.0  ...  3.0   9.0  12.0  13.0  12.0   \n",
              "1        0.2  1017.0  17.0  10.0  177.0  ...  4.0   8.0  11.0  12.0  11.0   \n",
              "2        0.1  1023.0  15.0  10.0  180.0  ...  4.0   9.0  12.0  13.0  12.0   \n",
              "3        0.0  1022.0  16.0  10.0   82.0  ...  4.0  12.0  15.0  15.0  15.0   \n",
              "4        0.1  1012.0  20.0  10.0   37.0  ...  4.0  13.0  15.0  16.0  15.0   \n",
              "...      ...     ...   ...   ...    ...  ...  ...   ...   ...   ...   ...   \n",
              "2054733  0.0  1012.0  25.0   9.0  180.0  ...  6.0  14.0  23.0  23.0  22.0   \n",
              "2054734  0.0  1012.0  28.0  10.0  189.0  ...  7.0  15.0  24.0  24.0  23.0   \n",
              "2054735  0.0  1014.0  29.0  10.0  166.0  ...  7.0  16.0  25.0  25.0  24.0   \n",
              "2054736  0.8  1008.0  28.0  10.0  192.0  ...  5.0  15.0  23.0  23.0  22.0   \n",
              "2054737  8.4  1004.0  25.0   9.0  169.0  ...  6.0  10.0  19.0  20.0  19.0   \n",
              "\n",
              "           30    31    32   33      34    35    36     37    38       39  \\\n",
              "0        21.0  56.0  77.0  0.2  1017.0  17.0  10.0  177.0  13.0 -35.0031   \n",
              "1        20.0  33.0  74.0  0.1  1023.0  15.0  10.0  180.0  13.0 -35.0031   \n",
              "2        21.0  24.0  76.0  0.0  1022.0  16.0  10.0   82.0  13.0 -35.0031   \n",
              "3        27.0  29.0  79.0  0.1  1012.0  20.0  10.0   37.0  17.0 -35.0031   \n",
              "4        42.0  38.0  85.0  1.7  1002.0  20.0  10.0  326.0  26.0 -35.0031   \n",
              "...       ...   ...   ...  ...     ...   ...   ...    ...   ...      ...   \n",
              "2054733  11.0   6.0  64.0  0.0  1012.0  28.0  10.0  189.0   7.0 -34.3135   \n",
              "2054734   9.0   4.0  66.0  0.0  1014.0  29.0  10.0  166.0   6.0 -34.3135   \n",
              "2054735  11.0  25.0  61.0  0.8  1008.0  28.0  10.0  192.0   6.0 -34.3135   \n",
              "2054736  19.0  61.0  69.0  8.4  1004.0  25.0   9.0  169.0  12.0 -34.3135   \n",
              "2054737  15.0   5.0  62.0  0.0  1013.0  24.0  10.0   77.0   9.0 -34.3135   \n",
              "\n",
              "                40   41  \n",
              "0        117.86595  0.0  \n",
              "1        117.86595  0.0  \n",
              "2        117.86595  0.0  \n",
              "3        117.86595  0.0  \n",
              "4        117.86595  0.0  \n",
              "...            ...  ...  \n",
              "2054733  148.30107  0.0  \n",
              "2054734  148.30107  0.0  \n",
              "2054735  148.30107  0.0  \n",
              "2054736  148.30107  0.0  \n",
              "2054737  148.30107  0.0  \n",
              "\n",
              "[2054738 rows x 42 columns]"
            ]
          },
          "metadata": {},
          "execution_count": 14
        }
      ]
    },
    {
      "cell_type": "code",
      "metadata": {
        "id": "NS_h5zn3hktq"
      },
      "source": [
        "X = dataset[:,:-1]\n",
        "y = dataset[:,-1]"
      ],
      "execution_count": 15,
      "outputs": []
    },
    {
      "cell_type": "code",
      "metadata": {
        "colab": {
          "base_uri": "https://localhost:8080/"
        },
        "id": "oxwpopdAhktr",
        "outputId": "3d08e14d-9002-4642-eb80-b10344f12f1f"
      },
      "source": [
        "len(X)"
      ],
      "execution_count": 16,
      "outputs": [
        {
          "output_type": "execute_result",
          "data": {
            "text/plain": [
              "2054738"
            ]
          },
          "metadata": {},
          "execution_count": 16
        }
      ]
    },
    {
      "cell_type": "code",
      "metadata": {
        "colab": {
          "base_uri": "https://localhost:8080/"
        },
        "id": "o5V-F8k5hktr",
        "outputId": "5d3cd3f1-5b7c-4528-9f43-7f1070f816dd"
      },
      "source": [
        "len(y)"
      ],
      "execution_count": 17,
      "outputs": [
        {
          "output_type": "execute_result",
          "data": {
            "text/plain": [
              "2054738"
            ]
          },
          "metadata": {},
          "execution_count": 17
        }
      ]
    },
    {
      "cell_type": "code",
      "metadata": {
        "colab": {
          "base_uri": "https://localhost:8080/"
        },
        "id": "XbEZuYEKhktr",
        "outputId": "71380de4-1d7f-41b1-de23-24e679aa8361"
      },
      "source": [
        "y"
      ],
      "execution_count": 18,
      "outputs": [
        {
          "output_type": "execute_result",
          "data": {
            "text/plain": [
              "array([0., 0., 0., ..., 0., 0., 0.])"
            ]
          },
          "metadata": {},
          "execution_count": 18
        }
      ]
    },
    {
      "cell_type": "code",
      "metadata": {
        "id": "NmOrSksEhktr"
      },
      "source": [
        ""
      ],
      "execution_count": 18,
      "outputs": []
    },
    {
      "cell_type": "code",
      "metadata": {
        "id": "xPqKYsWRhktr"
      },
      "source": [
        ""
      ],
      "execution_count": 18,
      "outputs": []
    },
    {
      "cell_type": "code",
      "metadata": {
        "id": "OFyg-Hvuhkts"
      },
      "source": [
        "from sklearn.model_selection import train_test_split\n",
        "X_train, X_test, y_train, y_test = train_test_split(X, y, test_size=0.30, random_state=42)"
      ],
      "execution_count": 19,
      "outputs": []
    },
    {
      "cell_type": "code",
      "metadata": {
        "colab": {
          "base_uri": "https://localhost:8080/"
        },
        "id": "g8Zi9j5yhkts",
        "outputId": "17e2965a-9782-4af7-e681-11d732a7a69b"
      },
      "source": [
        "from imblearn.under_sampling import RandomUnderSampler\n",
        "from collections import Counter\n",
        "\n",
        "undersample = RandomUnderSampler(sampling_strategy='majority', random_state=24)\n",
        "x_under, y_under = undersample.fit_resample(X_train, y_train)\n",
        "print('')\n",
        "print(Counter(y_train))\n",
        "print(Counter(y_under))"
      ],
      "execution_count": 20,
      "outputs": [
        {
          "output_type": "stream",
          "name": "stderr",
          "text": [
            "/usr/local/lib/python3.7/dist-packages/sklearn/externals/six.py:31: FutureWarning: The module is deprecated in version 0.21 and will be removed in version 0.23 since we've dropped support for Python 2.7. Please rely on the official version of six (https://pypi.org/project/six/).\n",
            "  \"(https://pypi.org/project/six/).\", FutureWarning)\n",
            "/usr/local/lib/python3.7/dist-packages/sklearn/utils/deprecation.py:144: FutureWarning: The sklearn.neighbors.base module is  deprecated in version 0.22 and will be removed in version 0.24. The corresponding classes / functions should instead be imported from sklearn.neighbors. Anything that cannot be imported from sklearn.neighbors is now part of the private API.\n",
            "  warnings.warn(message, FutureWarning)\n",
            "/usr/local/lib/python3.7/dist-packages/sklearn/utils/deprecation.py:87: FutureWarning: Function safe_indexing is deprecated; safe_indexing is deprecated in version 0.22 and will be removed in version 0.24.\n",
            "  warnings.warn(msg, category=FutureWarning)\n"
          ]
        },
        {
          "output_type": "stream",
          "name": "stdout",
          "text": [
            "\n",
            "Counter({0.0: 1390114, 1.0: 48202})\n",
            "Counter({0.0: 48202, 1.0: 48202})\n"
          ]
        }
      ]
    },
    {
      "cell_type": "code",
      "metadata": {
        "id": "S7m-20jLhktt"
      },
      "source": [
        "# import numpy as np\n",
        "# X_train = asarray(X_train)"
      ],
      "execution_count": 21,
      "outputs": []
    },
    {
      "cell_type": "code",
      "metadata": {
        "colab": {
          "base_uri": "https://localhost:8080/"
        },
        "id": "rzwNQeIRh-2C",
        "outputId": "cdb11c7f-5c33-4ca8-e69f-f6cba3c92a67"
      },
      "source": [
        "from sklearn.ensemble import RandomForestClassifier\n",
        "from sklearn.model_selection import RandomizedSearchCV\n",
        "# Number of trees in random forest\n",
        "n_estimators = [int(x) for x in np.linspace(start = 200, stop = 2000, num = 10)]\n",
        "# Number of features to consider at every split\n",
        "max_features = ['auto', 'sqrt']\n",
        "# Maximum number of levels in tree\n",
        "max_depth = [int(x) for x in np.linspace(10, 110, num = 11)]\n",
        "max_depth.append(None)\n",
        "# Minimum number of samples required to split a node\n",
        "min_samples_split = [2, 5, 10]\n",
        "# Minimum number of samples required at each leaf node\n",
        "min_samples_leaf = [1, 2, 4]\n",
        "# Method of selecting samples for training each tree\n",
        "bootstrap = [True, False]\n",
        "\n",
        "\n",
        "# Create the random grid\n",
        "random_grid = {'n_estimators': n_estimators,\n",
        "               'max_features': max_features,\n",
        "               'max_depth': max_depth,\n",
        "               'min_samples_split': min_samples_split,\n",
        "               'min_samples_leaf': min_samples_leaf,\n",
        "               'bootstrap': bootstrap}\n",
        "\n",
        "print(random_grid)"
      ],
      "execution_count": 55,
      "outputs": [
        {
          "output_type": "stream",
          "name": "stdout",
          "text": [
            "{'n_estimators': [200, 400, 600, 800, 1000, 1200, 1400, 1600, 1800, 2000], 'max_features': ['auto', 'sqrt'], 'max_depth': [10, 20, 30, 40, 50, 60, 70, 80, 90, 100, 110, None], 'min_samples_split': [2, 5, 10], 'min_samples_leaf': [1, 2, 4], 'bootstrap': [True, False]}\n"
          ]
        }
      ]
    },
    {
      "cell_type": "code",
      "metadata": {
        "colab": {
          "base_uri": "https://localhost:8080/"
        },
        "id": "uNQKs86ohP3W",
        "outputId": "e4d541ea-8e72-433e-b173-d57615c6ad48"
      },
      "source": [
        "# Use the random grid to search for best hyperparameters\n",
        "from sklearn.metrics import make_scorer\n",
        "from sklearn.metrics import accuracy_score\n",
        "scoring = {'Recall': 'recall', 'Accuracy': make_scorer(accuracy_score)}\n",
        "# First create the base model to tune\n",
        "rf = RandomForestClassifier()\n",
        "# Random search of parameters, using 3 fold cross validation, \n",
        "# search across 100 different combinations, and use all available cores\n",
        "rf_random = RandomizedSearchCV(estimator = rf, param_distributions = random_grid,scoring= scoring, n_iter = 100, cv = 2, verbose=2, random_state=42, n_jobs = -1,refit='Recall')\n",
        "\n",
        "# Fit the grid search model\n",
        "rf_random.fit(x_under, y_under)"
      ],
      "execution_count": 56,
      "outputs": [
        {
          "output_type": "stream",
          "name": "stdout",
          "text": [
            "Fitting 2 folds for each of 100 candidates, totalling 200 fits\n"
          ]
        },
        {
          "output_type": "stream",
          "name": "stderr",
          "text": [
            "[Parallel(n_jobs=-1)]: Using backend LokyBackend with 4 concurrent workers.\n",
            "/usr/local/lib/python3.7/dist-packages/joblib/externals/loky/process_executor.py:691: UserWarning: A worker stopped while some jobs were given to the executor. This can be caused by a too short worker timeout or by a memory leak.\n",
            "  \"timeout or by a memory leak.\", UserWarning\n",
            "[Parallel(n_jobs=-1)]: Done  33 tasks      | elapsed: 38.6min\n",
            "[Parallel(n_jobs=-1)]: Done 154 tasks      | elapsed: 174.9min\n",
            "[Parallel(n_jobs=-1)]: Done 200 out of 200 | elapsed: 215.0min finished\n"
          ]
        },
        {
          "output_type": "execute_result",
          "data": {
            "text/plain": [
              "RandomizedSearchCV(cv=2, error_score=nan,\n",
              "                   estimator=RandomForestClassifier(bootstrap=True,\n",
              "                                                    ccp_alpha=0.0,\n",
              "                                                    class_weight=None,\n",
              "                                                    criterion='gini',\n",
              "                                                    max_depth=None,\n",
              "                                                    max_features='auto',\n",
              "                                                    max_leaf_nodes=None,\n",
              "                                                    max_samples=None,\n",
              "                                                    min_impurity_decrease=0.0,\n",
              "                                                    min_impurity_split=None,\n",
              "                                                    min_samples_leaf=1,\n",
              "                                                    min_samples_split=2,\n",
              "                                                    min_weight_fraction_leaf=0.0,\n",
              "                                                    n_estimators=100,\n",
              "                                                    n_jobs...\n",
              "                                        'max_depth': [10, 20, 30, 40, 50, 60,\n",
              "                                                      70, 80, 90, 100, 110,\n",
              "                                                      None],\n",
              "                                        'max_features': ['auto', 'sqrt'],\n",
              "                                        'min_samples_leaf': [1, 2, 4],\n",
              "                                        'min_samples_split': [2, 5, 10],\n",
              "                                        'n_estimators': [200, 400, 600, 800,\n",
              "                                                         1000, 1200, 1400, 1600,\n",
              "                                                         1800, 2000]},\n",
              "                   pre_dispatch='2*n_jobs', random_state=42, refit='Recall',\n",
              "                   return_train_score=False,\n",
              "                   scoring={'Accuracy': make_scorer(accuracy_score),\n",
              "                            'Recall': 'recall'},\n",
              "                   verbose=2)"
            ]
          },
          "metadata": {},
          "execution_count": 56
        }
      ]
    },
    {
      "cell_type": "code",
      "metadata": {
        "colab": {
          "base_uri": "https://localhost:8080/"
        },
        "id": "cEUDvq4Ehq-X",
        "outputId": "cf7d4095-0241-4292-ea3e-00f0d9aaf7c0"
      },
      "source": [
        "rf_random.best_params_\n",
        "#rf_grid.cv_results_\n",
        "\n",
        "# GridSearchCV(cv=3, error_score=nan,\n",
        "#              estimator=RandomForestClassifier(bootstrap=True, ccp_alpha=0.0,\n",
        "#                                               class_weight=None,\n",
        "#                                               criterion='gini', max_depth=None,\n",
        "#                                               max_features='auto',\n",
        "#                                               max_leaf_nodes=None,\n",
        "#                                               max_samples=None,\n",
        "#                                               min_impurity_decrease=0.0,\n",
        "#                                               min_impurity_split=None,\n",
        "#                                               min_samples_leaf=1,\n",
        "#                                               min_samples_split=2,\n",
        "#                                               min_weight_fraction_leaf=0.0,\n",
        "#                                               n_estimators=100, n_jobs=None,\n",
        "#                                               oob_score=False,\n",
        "#                                               random_state=None, verbose=0,\n",
        "#                                               warm_start=False)\n"
      ],
      "execution_count": 57,
      "outputs": [
        {
          "output_type": "execute_result",
          "data": {
            "text/plain": [
              "{'bootstrap': False,\n",
              " 'max_depth': 90,\n",
              " 'max_features': 'auto',\n",
              " 'min_samples_leaf': 2,\n",
              " 'min_samples_split': 5,\n",
              " 'n_estimators': 200}"
            ]
          },
          "metadata": {},
          "execution_count": 57
        }
      ]
    },
    {
      "cell_type": "code",
      "metadata": {
        "id": "fuqVO5ClgYwl",
        "colab": {
          "base_uri": "https://localhost:8080/"
        },
        "outputId": "f1c0829e-d24a-44ca-e9f2-d3a6851a8b5a"
      },
      "source": [
        "modelRF = RandomForestClassifier(bootstrap=False, max_depth=90,max_features='auto',min_samples_leaf=2, min_samples_split=5, n_estimators=200,random_state=42)\n",
        "\n",
        "modelRF.fit(x_under,y_under)"
      ],
      "execution_count": 58,
      "outputs": [
        {
          "output_type": "execute_result",
          "data": {
            "text/plain": [
              "RandomForestClassifier(bootstrap=False, ccp_alpha=0.0, class_weight=None,\n",
              "                       criterion='gini', max_depth=90, max_features='auto',\n",
              "                       max_leaf_nodes=None, max_samples=None,\n",
              "                       min_impurity_decrease=0.0, min_impurity_split=None,\n",
              "                       min_samples_leaf=2, min_samples_split=5,\n",
              "                       min_weight_fraction_leaf=0.0, n_estimators=200,\n",
              "                       n_jobs=None, oob_score=False, random_state=42, verbose=0,\n",
              "                       warm_start=False)"
            ]
          },
          "metadata": {},
          "execution_count": 58
        }
      ]
    },
    {
      "cell_type": "code",
      "metadata": {
        "id": "6V5pQZdkhktt"
      },
      "source": [
        "y_pred = modelRF.predict(X_test)"
      ],
      "execution_count": 59,
      "outputs": []
    },
    {
      "cell_type": "code",
      "metadata": {
        "colab": {
          "base_uri": "https://localhost:8080/"
        },
        "id": "jXsqDOVShktu",
        "outputId": "c275d779-a6fe-4055-c68b-e10b4a41cdf9"
      },
      "source": [
        "y_pred"
      ],
      "execution_count": 47,
      "outputs": [
        {
          "output_type": "execute_result",
          "data": {
            "text/plain": [
              "array([0., 0., 0., ..., 0., 0., 0.])"
            ]
          },
          "metadata": {},
          "execution_count": 47
        }
      ]
    },
    {
      "cell_type": "code",
      "metadata": {
        "colab": {
          "base_uri": "https://localhost:8080/"
        },
        "id": "wIyfLujehktu",
        "outputId": "d1e82f1e-b9d6-4ef1-ae19-89fc9cbd5a2d"
      },
      "source": [
        "from sklearn.metrics import accuracy_score\n",
        "accuracy_score(y_test, y_pred)"
      ],
      "execution_count": 60,
      "outputs": [
        {
          "output_type": "execute_result",
          "data": {
            "text/plain": [
              "0.8976658847348084"
            ]
          },
          "metadata": {},
          "execution_count": 60
        }
      ]
    },
    {
      "cell_type": "code",
      "metadata": {
        "id": "4LM0biu0hktv"
      },
      "source": [
        "from sklearn.metrics import classification_report\n",
        "clr = classification_report(y_test, y_pred)"
      ],
      "execution_count": 61,
      "outputs": []
    },
    {
      "cell_type": "code",
      "metadata": {
        "colab": {
          "base_uri": "https://localhost:8080/"
        },
        "id": "tQf0YSSDhktv",
        "outputId": "3e543f9f-ba52-4248-9244-7a3219a07f85"
      },
      "source": [
        "print(clr)"
      ],
      "execution_count": 62,
      "outputs": [
        {
          "output_type": "stream",
          "name": "stdout",
          "text": [
            "              precision    recall  f1-score   support\n",
            "\n",
            "         0.0       0.99      0.90      0.94    595783\n",
            "         1.0       0.23      0.86      0.36     20639\n",
            "\n",
            "    accuracy                           0.90    616422\n",
            "   macro avg       0.61      0.88      0.65    616422\n",
            "weighted avg       0.97      0.90      0.92    616422\n",
            "\n"
          ]
        }
      ]
    },
    {
      "cell_type": "code",
      "metadata": {
        "colab": {
          "base_uri": "https://localhost:8080/"
        },
        "id": "FCTaffC7hktw",
        "outputId": "d20adb8b-52b4-4ce4-8056-cad30d4f539a"
      },
      "source": [
        "from sklearn.metrics import confusion_matrix\n",
        "cf = confusion_matrix(y_test, y_pred)\n",
        "print(cf)"
      ],
      "execution_count": 44,
      "outputs": [
        {
          "output_type": "stream",
          "name": "stdout",
          "text": [
            "[[536536  59247]\n",
            " [  3320  17319]]\n"
          ]
        }
      ]
    },
    {
      "cell_type": "code",
      "metadata": {
        "id": "5CTU78Uuhktw"
      },
      "source": [
        ""
      ],
      "execution_count": null,
      "outputs": []
    }
  ]
}